{
 "cells": [
  {
   "cell_type": "markdown",
   "id": "035c0df4-dbe3-4193-855e-1c9e2254fdc7",
   "metadata": {},
   "source": [
    "# Interview Questions\n",
    "Finance is known for asking trap-like interview questions. One of those that challenged me was the following:\n",
    "\n",
    "What is more likely: 30 days with a 1% drop, or 1 day with a 30% drop? Assume  $\\epsilon$ ~ iid N(0,1).\n",
    "\n",
    "For redability and intuition, let's simplify to 2 days at 1% and 1 day at 2%. \n",
    "\n",
    "$P(X<-1)^2$ $\\overset{?}{>}$ $P(X<-2)$\n",
    "\n",
    "\n",
    "#### As per iid assumption:\n",
    "\n",
    "$P(X<-1)^n$ $=$ $P\\left( \\bigcap_{t=1}^{30} \\{ X_t \\leq -1 \\} \\right)$,\n",
    "\n",
    "Since $ P(X_t \\leq -1)$ is the same for all $t $\n",
    "\n",
    "$P\\left( \\bigcap_{t=1}^{n} \\{ X_t \\leq -1 \\} \\right) = \\prod_{t=1}^{n} P(X_t \\leq -1)$ = $P(X < -1)^n$."
   ]
  },
  {
   "cell_type": "markdown",
   "id": "eb7c4751-914c-4c72-8765-f41bcfa373ac",
   "metadata": {},
   "source": [
    "## $\\epsilon$ ~ iid N(0,1)"
   ]
  },
  {
   "cell_type": "code",
   "execution_count": 3,
   "id": "e0a17e04-5581-4de4-bf37-5972aa749b51",
   "metadata": {},
   "outputs": [],
   "source": [
    "import numpy as np\n",
    "from scipy.stats import norm\n",
    "\n",
    "# Parameters\n",
    "mu = 0  # Mean of the distribution\n",
    "sigma = 1  # Standard deviation of the distribution"
   ]
  },
  {
   "cell_type": "code",
   "execution_count": 4,
   "id": "ad41858d-9378-4ea0-8491-c4bb42923149",
   "metadata": {},
   "outputs": [
    {
     "name": "stdout",
     "output_type": "stream",
     "text": [
      "Probability of 2 days with a 1% drop: 0.025171 (greater)\n",
      "Probability of 1 day with a 2% drop: 0.022750\n"
     ]
    }
   ],
   "source": [
    "# Simplified case\n",
    "# 2 days with a 1% drop\n",
    "prob_2_days_1_percent = norm.cdf(-1, loc=mu, scale=sigma) ** 2\n",
    "\n",
    "# 1 day with a 2% drop\n",
    "prob_1_day_2_percent = norm.cdf(-2, loc=mu, scale=sigma)\n",
    "\n",
    "# Display results\n",
    "if prob_2_days_1_percent > prob_1_day_2_percent:\n",
    "    print(f\"Probability of 2 days with a 1% drop: {prob_2_days_1_percent:.6f} (greater)\")\n",
    "    print(f\"Probability of 1 day with a 2% drop: {prob_1_day_2_percent:.6f}\")\n",
    "else:\n",
    "    print(f\"Probability of 2 days with a 1% drop: {prob_2_days_1_percent:.6f}\")\n",
    "    print(f\"Probability of 1 day with a 2% drop: {prob_1_day_2_percent:.6f} (greater)\")"
   ]
  },
  {
   "cell_type": "code",
   "execution_count": 5,
   "id": "d04367f9-624e-471c-9663-4454924a64a4",
   "metadata": {},
   "outputs": [
    {
     "name": "stdout",
     "output_type": "stream",
     "text": [
      "Probability of 30 days with a 1% drop: 1.031891e-24 (greater)\n",
      "Probability of 1 day with a 30% drop: 4.906714e-198\n"
     ]
    }
   ],
   "source": [
    "# Actual case\n",
    "prob_30_days_1_percent = norm.cdf(-1, loc=mu, scale=sigma) ** 30\n",
    "prob_1_day_30_percent = norm.cdf(-30, loc=mu, scale=sigma)\n",
    "\n",
    "# Determine which is greater (too small to read)\n",
    "if prob_30_days_1_percent > prob_1_day_30_percent:\n",
    "    print(f\"Probability of 30 days with a 1% drop: {prob_30_days_1_percent:.6e} (greater)\")\n",
    "    print(f\"Probability of 1 day with a 30% drop: {prob_1_day_30_percent:.6e}\")\n",
    "else:\n",
    "    print(f\"Probability of 30 days with a 1% drop: {prob_30_days_1_percent:.6e}\")\n",
    "    print(f\"Probability of 1 day with a 30% drop: {prob_1_day_30_percent:.6e} (greater)\")"
   ]
  },
  {
   "cell_type": "markdown",
   "id": "fa4ba54a-fe1b-4687-901f-73dcec48f8b6",
   "metadata": {},
   "source": [
    "It is worth understanding that this result relies on the fact the $\\epsilon$ are iid. The stock market is not iid and most likely follows something like an ARMA process.\n",
    "\n",
    "Let's look at how this behaves under an ARMA process. Note: ARMA combines the AR (autoregressive) and MA (the error terms lags). ARIMA captures the non-stationarity of the market."
   ]
  },
  {
   "cell_type": "markdown",
   "id": "1170f17c-7cc4-4689-805b-a504df354e81",
   "metadata": {},
   "source": [
    "## $\\epsilon$ ~ ARMA(p,d,q), with $\\eta_t$ ~ N(0,1) "
   ]
  },
  {
   "cell_type": "code",
   "execution_count": 8,
   "id": "70def8de-c53e-4287-ac70-aaf48155fd10",
   "metadata": {},
   "outputs": [],
   "source": [
    "from statsmodels.tsa.arima_process import ArmaProcess"
   ]
  },
  {
   "cell_type": "markdown",
   "id": "f70d157d-a3fd-4177-a611-953067f60166",
   "metadata": {},
   "source": [
    "### n = 2-days"
   ]
  },
  {
   "cell_type": "code",
   "execution_count": 10,
   "id": "aa0067ca-250f-44ce-a37f-3da92f264808",
   "metadata": {},
   "outputs": [],
   "source": [
    "# Parameters for ARMA\n",
    "mu = 0  # Mean\n",
    "sigma = 1  # Standard deviation of white noise\n",
    "ar_params = [1, -0.5]  # AR(1) coefficients\n",
    "ma_params = [1, 0.4]   # MA(1) coefficients\n",
    "n_simulations = 1000000  # Number of simulations\n",
    "n_days = 2  # Days for comparison\n",
    "\n",
    "# Define ARMA process\n",
    "ar = np.array(ar_params)\n",
    "ma = np.array(ma_params)\n",
    "arma_process = ArmaProcess(ar, ma)"
   ]
  },
  {
   "cell_type": "code",
   "execution_count": 11,
   "id": "5de12243-e60f-4ec3-8e95-3313729f9619",
   "metadata": {},
   "outputs": [
    {
     "data": {
      "text/plain": [
       "(array([[-0.59820912, -1.68285308],\n",
       "        [-1.93384093, -1.81580211],\n",
       "        [-1.05285845,  1.245632  ],\n",
       "        ...,\n",
       "        [-2.53578156, -0.74384314],\n",
       "        [ 0.37628393,  1.20721287],\n",
       "        [ 0.38766901, -0.25795533]]),\n",
       " array([ 0.58166972,  0.66019304,  0.43421751, ..., -0.97571733,\n",
       "        -0.2647429 ,  0.51638965]))"
      ]
     },
     "execution_count": 11,
     "metadata": {},
     "output_type": "execute_result"
    }
   ],
   "source": [
    "# Simulate returns for n_days and 1 day\n",
    "# This simulate, jointly, a n-days return, \n",
    "simulated_returns_2_days = arma_process.generate_sample(nsample=n_simulations * n_days, scale=sigma, burnin=100).reshape(n_simulations, n_days)\n",
    "simulated_returns_1_day = arma_process.generate_sample(nsample=n_simulations, scale=sigma, burnin=100)\n",
    "\n",
    "simulated_returns_2_days,simulated_returns_1_day"
   ]
  },
  {
   "cell_type": "code",
   "execution_count": 12,
   "id": "93e41e71-a46f-4e68-80d0-916fb9c3ed32",
   "metadata": {},
   "outputs": [
    {
     "data": {
      "text/plain": [
       "(0.144352, 0.082809)"
      ]
     },
     "execution_count": 12,
     "metadata": {},
     "output_type": "execute_result"
    }
   ],
   "source": [
    "# Probability calculation\n",
    "prob_1_day_2_percent = np.mean(simulated_returns_1_day <= -2)  # One 2% drop\n",
    "prob_consecutive_1_percent = np.mean(\n",
    "    np.all(simulated_returns_2_days <= -1, axis=1)  # Check if all days in each simulation meet the condition\n",
    ")\n",
    "prob_consecutive_1_percent,prob_1_day_2_percent"
   ]
  },
  {
   "cell_type": "markdown",
   "id": "52287c1a-9d2b-4764-bdfc-3388ecb95670",
   "metadata": {},
   "source": [
    "In this case, the two-day scenario does not map well to the 30-day scenario because the draws are not iid (so one cannot do $P(X<-1)^n$)! Instead, they depend on the previous days. As a result, having 30 days in a row with drops is substantially less likely under an ARMA process than under a simple iid N(0,1). "
   ]
  },
  {
   "cell_type": "markdown",
   "id": "8099b3c2-8e01-452f-a82a-d1c31cd53daf",
   "metadata": {},
   "source": [
    "### n = 30-days"
   ]
  },
  {
   "cell_type": "code",
   "execution_count": 15,
   "id": "2d746e54-e173-44a2-ba47-d7996d4765a5",
   "metadata": {},
   "outputs": [],
   "source": [
    "n_days = 30  # Days for comparison\n",
    "\n",
    "# Define ARMA process\n",
    "ar = np.array(ar_params)\n",
    "ma = np.array(ma_params)\n",
    "arma_process = ArmaProcess(ar, ma)"
   ]
  },
  {
   "cell_type": "code",
   "execution_count": 16,
   "id": "25b52b5f-682d-4e29-a30b-834e1b3fa5c3",
   "metadata": {},
   "outputs": [],
   "source": [
    "simulated_returns_n_days = arma_process.generate_sample(nsample=n_simulations * n_days, scale=sigma, burnin=100).reshape(n_simulations, n_days)\n",
    "#So this is a n_days wide row (30), by n_simulations simulations long.\n",
    "simulated_returns_1_day = arma_process.generate_sample(nsample=n_simulations, scale=sigma, burnin=100)\n"
   ]
  },
  {
   "cell_type": "code",
   "execution_count": 17,
   "id": "c155e28a-90f1-4e69-b79d-db5f85d0c184",
   "metadata": {},
   "outputs": [],
   "source": [
    "prob_all_30_days_1_percent = np.mean(\n",
    "    np.all(simulated_returns_n_days <= -1, axis=1)  # Check if all days in each simulation meet the condition\n",
    ")\n",
    "prob_1_day_30_percent = np.mean(simulated_returns_1_day <= -30)  # One 30% drop"
   ]
  },
  {
   "cell_type": "code",
   "execution_count": 18,
   "id": "edbff099-606b-4100-9c80-7c418b736448",
   "metadata": {},
   "outputs": [
    {
     "data": {
      "text/plain": [
       "False"
      ]
     },
     "execution_count": 18,
     "metadata": {},
     "output_type": "execute_result"
    }
   ],
   "source": [
    "prob_all_30_days_1_percent>prob_1_day_30_percent"
   ]
  },
  {
   "cell_type": "code",
   "execution_count": 19,
   "id": "3f4db593-9690-4a16-b77b-42fefffade81",
   "metadata": {},
   "outputs": [
    {
     "name": "stdout",
     "output_type": "stream",
     "text": [
      "Probability of 30 days with a 1% drop: 0.000000\n",
      "Probability of 1 day with a 30% drop: 0.000000 (greater)\n"
     ]
    }
   ],
   "source": [
    "if prob_all_30_days_1_percent > prob_1_day_30_percent:\n",
    "    print(f\"Probability of 30 days with a 1% drop: {prob_all_30_days_1_percent:.6f} (greater)\")\n",
    "    print(f\"Probability of 1 day with a 30% drop: {prob_1_day_30_percent:.6f}\")\n",
    "else:\n",
    "    print(f\"Probability of 30 days with a 1% drop: {prob_all_30_days_1_percent:.6f}\")\n",
    "    print(f\"Probability of 1 day with a 30% drop: {prob_1_day_30_percent:.6f} (greater)\")"
   ]
  },
  {
   "cell_type": "markdown",
   "id": "f6a20ca9-56bd-4a66-baf4-167decd58d76",
   "metadata": {},
   "source": [
    "## Result\n",
    "Thus, we now obtain a more realistic result, as a 30-day 1% drop is quite unlikely in the real world. However, in the \"fantasy land\" of iid, it appears very likely. This highlights the importance of choosing the appropriate model for the given context. As seen earlier, the qualitative results under iid were similar for two consecutive days, but when examining the extremity of the tail of the distribution, the right modeling matters.\n",
    "\n",
    "Thus:\n",
    "\n",
    "$P(X<-1)^n$ $\\not=$ $P\\left( \\bigcap_{t=1}^{30} \\{ X_t \\leq -1\\} \\right)$,\n",
    "\n",
    "AND\n",
    "\n",
    "\r",
    "$P\\left( \\bigcap_{t=1}^{30} \\{ X_t \\leq -1 \\} \\right)$ < $P(X<-30)$.\n"
   ]
  },
  {
   "cell_type": "markdown",
   "id": "97d27e72-d2eb-49bf-a416-3cfdfd51f711",
   "metadata": {},
   "source": [
    "### Sub-question\n",
    "Now, what can we do to ensure both have the same probability?\n",
    "Namely that:\n",
    "\n",
    "$P\\left( \\bigcap_{t=1}^{30} \\{ X_t \\leq -1 \\} \\right)$ = $P(X<-30)$.\n",
    "\n",
    "Note: here is a written proof:\n",
    "\n",
    "Apriori: in the iid world $P\\left( \\bigcap_{t=1}^{30} \\{ X_t \\leq -1 \\} \\right)$ > $P(X<-30)$ and in the ARMA world (with current assumed value), $P\\left( \\bigcap_{t=1}^{30} \\{ X_t \\leq -1 \\} \\right)$ < $P(X<-30)$. \n",
    "\n",
    "Moreover, the i.i.d. case is a subset of the ARMA process (where all parameters are zero). Thus, we must only iterate through our algorithm until both probabilities are equal for \\(n = 30\\). It is akin to the Squeeze Theorem. "
   ]
  }
 ],
 "metadata": {
  "kernelspec": {
   "display_name": "Python 3 (ipykernel)",
   "language": "python",
   "name": "python3"
  },
  "language_info": {
   "codemirror_mode": {
    "name": "ipython",
    "version": 3
   },
   "file_extension": ".py",
   "mimetype": "text/x-python",
   "name": "python",
   "nbconvert_exporter": "python",
   "pygments_lexer": "ipython3",
   "version": "3.11.7"
  }
 },
 "nbformat": 4,
 "nbformat_minor": 5
}
