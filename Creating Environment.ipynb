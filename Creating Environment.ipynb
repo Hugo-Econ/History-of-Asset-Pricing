{
 "cells": [
  {
   "cell_type": "markdown",
   "id": "99c0e141-2a8c-41a2-a562-200cb5cbdace",
   "metadata": {},
   "source": [
    "# Creating Environment Variables"
   ]
  },
  {
   "cell_type": "markdown",
   "id": "2563ca69-099d-44e5-a8a0-5f7a54bc6a55",
   "metadata": {},
   "source": [
    "If you plan to share your own code with collaborators or the public, you may encounter the situation that your projects require sensitive information, such as login credentials, that you don’t want to publish. Environment variables are widely used in software development projects because they provide a flexible and secure way to configure applications and store secrets. In later chapters, we use such environment variables to store private login data for a remote database.\n",
    "\n",
    "You can use .env-files to store environment variables. Upon startup, Python projects often use libraries like python-dotenv to load these environment variables from a .env-file. .env-files can be placed at the project level and are not meant to be committed to version control, ensuring that sensitive information remains private.\n",
    "#See https://www.tidy-finance.org/python/setting-up-your-environment.html"
   ]
  },
  {
   "cell_type": "code",
   "execution_count": 39,
   "id": "16dee232-a444-44b0-ab47-378caa771b38",
   "metadata": {},
   "outputs": [],
   "source": [
    "#pip install python-dotenv\n",
    "# You need to install .env trough you prompt/bash (in you directory).\n",
    "#PS C:\\Users echo WRDS_USER=name > .env\n",
    "#PS C:\\Users echo WRDS_PASSWORD=code >> .env\n",
    "#PS C:\\Users Get-Content .env. It should return the above"
   ]
  },
  {
   "cell_type": "code",
   "execution_count": 41,
   "id": "09f92a4d-1a3c-4790-8096-d2ad7d6d3cbb",
   "metadata": {},
   "outputs": [
    {
     "name": "stdout",
     "output_type": "stream",
     "text": [
      "WRDS User: hugoecon\n"
     ]
    }
   ],
   "source": [
    "from dotenv import load_dotenv\n",
    "import os\n",
    "\n",
    "# Load the .env file\n",
    "load_dotenv( encoding=\"utf-16\")\n",
    "\n",
    "# Retrieve the variables\n",
    "wrds_user = os.getenv(\"WRDS_USER\")\n",
    "wrds_password = os.getenv(\"WRDS_PASSWORD\")\n",
    "\n",
    "print(f\"WRDS User: {wrds_user}\")\n"
   ]
  }
 ],
 "metadata": {
  "kernelspec": {
   "display_name": "Python 3 (ipykernel)",
   "language": "python",
   "name": "python3"
  },
  "language_info": {
   "codemirror_mode": {
    "name": "ipython",
    "version": 3
   },
   "file_extension": ".py",
   "mimetype": "text/x-python",
   "name": "python",
   "nbconvert_exporter": "python",
   "pygments_lexer": "ipython3",
   "version": "3.12.4"
  }
 },
 "nbformat": 4,
 "nbformat_minor": 5
}
