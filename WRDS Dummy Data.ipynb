{
 "cells": [
  {
   "cell_type": "markdown",
   "id": "a113360d-6b8e-413c-9475-b7d8f46a762e",
   "metadata": {},
   "source": [
    "# WRDS Dummy Data"
   ]
  },
  {
   "cell_type": "markdown",
   "id": "fb40ba58-a8b6-4a2f-a860-af240ed0b93a",
   "metadata": {},
   "source": [
    "So if you are not an academic, or -- impatient to wait your accreditation accepted --, you can generate a dummy here. See\n",
    "https://www.tidy-finance.org/python/wrds-dummy-data.html"
   ]
  },
  {
   "cell_type": "code",
   "execution_count": 43,
   "id": "eb2b31f8-fb05-4277-aa04-a003a994d860",
   "metadata": {},
   "outputs": [],
   "source": [
    "import pandas as pd\n",
    "import numpy as np\n",
    "import sqlite3\n",
    "import string"
   ]
  },
  {
   "cell_type": "markdown",
   "id": "ae9e390f-c9b2-4791-9164-8ace6ed13f55",
   "metadata": {},
   "source": [
    "Let us initialize a SQLite database (tidy_finance_python.sqlite) or connect to your existing one. Be careful, if you already downloaded the data from WRDS, then the code in this chapter will overwrite your data!"
   ]
  },
  {
   "cell_type": "code",
   "execution_count": 45,
   "id": "8025901b-0531-41ac-9815-84814f54dd32",
   "metadata": {},
   "outputs": [],
   "source": [
    "tidy_finance = sqlite3.connect(database=\"data/tidy_finance_python.sqlite\")\n",
    "# Now you can just \"Run all\""
   ]
  },
  {
   "cell_type": "code",
   "execution_count": 46,
   "id": "1eca48ab-e798-4151-b4e7-c742df538430",
   "metadata": {},
   "outputs": [],
   "source": [
    "np.random.seed(1234)\n",
    "\n",
    "start_date = pd.Timestamp(\"2003-01-01\")\n",
    "end_date = pd.Timestamp(\"2023-12-31\")\n",
    "\n",
    "dummy_years = np.arange(start_date.year, end_date.year+1, 1)\n",
    "dummy_months = pd.date_range(start_date, end_date, freq=\"MS\") \n",
    "dummy_days = pd.date_range(start_date, end_date, freq=\"D\")"
   ]
  },
  {
   "cell_type": "markdown",
   "id": "4bf728e6-20ea-4bd2-936d-16dd54bf1663",
   "metadata": {},
   "source": [
    "## Create Stock Dummy Data"
   ]
  },
  {
   "cell_type": "code",
   "execution_count": 48,
   "id": "b5d9b2c0-673c-48ca-acea-6d66090c0489",
   "metadata": {},
   "outputs": [],
   "source": [
    "number_of_stocks = 100\n",
    "\n",
    "industries = pd.DataFrame({\n",
    "  \"industry\": [\"Agriculture\", \"Construction\", \"Finance\",\n",
    "               \"Manufacturing\", \"Mining\", \"Public\", \"Retail\", \n",
    "               \"Services\", \"Transportation\", \"Utilities\", \"Wholesale\"],\n",
    "  \"n\": [81, 287, 4682, 8584, 1287, 1974, 1571, 4277, 1249, 457, 904],\n",
    "  \"prob\": [0.00319, 0.0113, 0.185, 0.339, 0.0508, 0.0779, \n",
    "           0.0620, 0.169, 0.0493, 0.0180, 0.03451]\n",
    "})\n",
    "\n",
    "exchanges = pd.DataFrame({\n",
    "  \"exchange\": [\"AMEX\", \"NASDAQ\", \"NYSE\"],\n",
    "  \"n\": [2893, 17236, 5553],\n",
    "  \"prob\": [0.113, 0.671, 0.216]\n",
    "})\n",
    "\n",
    "stock_identifiers_list = []\n",
    "for x in range(1, number_of_stocks+1):\n",
    "  exchange = np.random.choice(exchanges[\"exchange\"], p=exchanges[\"prob\"])\n",
    "  industry = np.random.choice(industries[\"industry\"], p=industries[\"prob\"])\n",
    "\n",
    "  exchcd_mapping = {\n",
    "    \"NYSE\": np.random.choice([1, 31]),\n",
    "    \"AMEX\": np.random.choice([2, 32]),\n",
    "    \"NASDAQ\": np.random.choice([3, 33])\n",
    "  }\n",
    "\n",
    "  siccd_mapping = {\n",
    "    \"Agriculture\": np.random.randint(1, 1000),\n",
    "    \"Mining\": np.random.randint(1000, 1500),\n",
    "    \"Construction\": np.random.randint(1500, 1800),\n",
    "    \"Manufacturing\": np.random.randint(1800, 4000),\n",
    "    \"Transportation\": np.random.randint(4000, 4900),\n",
    "    \"Utilities\": np.random.randint(4900, 5000),\n",
    "    \"Wholesale\": np.random.randint(5000, 5200),\n",
    "    \"Retail\": np.random.randint(5200, 6000),\n",
    "    \"Finance\": np.random.randint(6000, 6800),\n",
    "    \"Services\": np.random.randint(7000, 9000),\n",
    "    \"Public\": np.random.randint(9000, 10000)\n",
    "  }\n",
    "\n",
    "  stock_identifiers_list.append({\n",
    "    \"permno\": x,\n",
    "    \"gvkey\": str(x+10000),\n",
    "    \"exchange\": exchange,\n",
    "    \"industry\": industry,\n",
    "    \"exchcd\": exchcd_mapping[exchange],\n",
    "    \"siccd\": siccd_mapping[industry]\n",
    "  })\n",
    "\n",
    "stock_identifiers = pd.DataFrame(stock_identifiers_list)"
   ]
  },
  {
   "cell_type": "code",
   "execution_count": 49,
   "id": "7fc13a8e-2092-4e4e-8b30-6dc1fdaacb6b",
   "metadata": {},
   "outputs": [],
   "source": [
    "stock_panel_yearly = pd.DataFrame({\n",
    "  \"gvkey\": np.tile(stock_identifiers[\"gvkey\"], len(dummy_years)),\n",
    "  \"year\": np.repeat(dummy_years, len(stock_identifiers))\n",
    "})\n",
    "\n",
    "stock_panel_monthly = pd.DataFrame({\n",
    "  \"permno\": np.tile(stock_identifiers[\"permno\"], len(dummy_months)),\n",
    "  \"gvkey\": np.tile(stock_identifiers[\"gvkey\"], len(dummy_months)),\n",
    "  \"date\": np.repeat(dummy_months, len(stock_identifiers)),\n",
    "  \"siccd\": np.tile(stock_identifiers[\"siccd\"], len(dummy_months)),\n",
    "  \"industry\": np.tile(stock_identifiers[\"industry\"], len(dummy_months)),\n",
    "  \"exchcd\": np.tile(stock_identifiers[\"exchcd\"], len(dummy_months)),\n",
    "  \"exchange\": np.tile(stock_identifiers[\"exchange\"], len(dummy_months))\n",
    "})\n",
    "\n",
    "stock_panel_daily = pd.DataFrame({\n",
    "  \"permno\": np.tile(stock_identifiers[\"permno\"], len(dummy_days)),\n",
    "  \"date\": np.repeat(dummy_days, len(stock_identifiers))\n",
    "})"
   ]
  },
  {
   "cell_type": "markdown",
   "id": "d4f6fae9-0d12-4292-9513-087f9c0f1275",
   "metadata": {},
   "source": [
    "## Dummy beta table"
   ]
  },
  {
   "cell_type": "code",
   "execution_count": 51,
   "id": "00639103-e99a-4104-92a1-3bdca16a45f2",
   "metadata": {},
   "outputs": [
    {
     "data": {
      "text/plain": [
       "25200"
      ]
     },
     "execution_count": 51,
     "metadata": {},
     "output_type": "execute_result"
    }
   ],
   "source": [
    "beta_dummy = (stock_panel_monthly\n",
    "  .assign(\n",
    "    beta_monthly=np.random.normal(\n",
    "      loc=1, scale=1, size=len(stock_panel_monthly)\n",
    "    ),\n",
    "    beta_daily=lambda x: (\n",
    "      x[\"beta_monthly\"]+np.random.normal(scale=0.01, size=len(x))\n",
    "    )\n",
    "  )\n",
    ")\n",
    "\n",
    "(beta_dummy\n",
    "  .to_sql(name=\"beta\", \n",
    "          con=tidy_finance, \n",
    "          if_exists=\"replace\",\n",
    "          index = False)\n",
    ")"
   ]
  },
  {
   "cell_type": "markdown",
   "id": "06ea3f85-8aa4-41a0-9daf-26375ab85ff3",
   "metadata": {},
   "source": [
    "## Dummy compustat table"
   ]
  },
  {
   "cell_type": "code",
   "execution_count": 53,
   "id": "4cda79f0-1ad5-420d-b148-36f8ff2d53fc",
   "metadata": {},
   "outputs": [
    {
     "data": {
      "text/plain": [
       "2100"
      ]
     },
     "execution_count": 53,
     "metadata": {},
     "output_type": "execute_result"
    }
   ],
   "source": [
    "relevant_columns = [\n",
    "  \"seq\", \"ceq\", \"at\", \"lt\", \"txditc\", \"txdb\", \"itcb\", \n",
    "  \"pstkrv\", \"pstkl\", \"pstk\", \"capx\", \"oancf\", \"sale\", \n",
    "  \"cogs\", \"xint\", \"xsga\", \"be\", \"op\", \"at_lag\", \"inv\"\n",
    "]\n",
    "\n",
    "commands = {\n",
    "  col: np.random.rand(len(stock_panel_yearly)) for col in relevant_columns\n",
    "}\n",
    "\n",
    "compustat_dummy = (\n",
    "  stock_panel_yearly\n",
    "  .assign(\n",
    "    datadate=lambda x: pd.to_datetime(x[\"year\"].astype(str)+\"-12-31\")\n",
    "  )\n",
    "  .assign(**commands)\n",
    ")\n",
    "\n",
    "(compustat_dummy\n",
    "  .to_sql(name=\"compustat\", \n",
    "          con=tidy_finance, \n",
    "          if_exists=\"replace\",\n",
    "          index=False)\n",
    ")"
   ]
  },
  {
   "cell_type": "markdown",
   "id": "7afe5b45-9e41-4e27-bdd7-04400e4df40b",
   "metadata": {},
   "source": [
    "## Dummy crsp_monthly table"
   ]
  },
  {
   "cell_type": "code",
   "execution_count": 55,
   "id": "ecc0792d-6aa5-4bf2-b8ea-bcd8f89c6e17",
   "metadata": {},
   "outputs": [
    {
     "data": {
      "text/plain": [
       "25200"
      ]
     },
     "execution_count": 55,
     "metadata": {},
     "output_type": "execute_result"
    }
   ],
   "source": [
    "crsp_monthly_dummy = (stock_panel_monthly\n",
    "  .assign(\n",
    "    ret=lambda x: np.fmax(np.random.normal(size=len(x)), -1),\n",
    "    ret_excess=lambda x: (\n",
    "      np.fmax(x[\"ret\"]-np.random.uniform(0, 0.0025, len(x)), -1)\n",
    "    ),\n",
    "    shrout=1000*np.random.uniform(1, 50, len(stock_panel_monthly)),\n",
    "    altprc=np.random.uniform(0, 1000, len(stock_panel_monthly)))\n",
    "  .assign(mktcap=lambda x: x[\"shrout\"]*x[\"altprc\"])\n",
    "  .sort_values(by=[\"permno\", \"date\"])\n",
    "  .assign(\n",
    "    mktcap_lag=lambda x: (x.groupby(\"permno\")[\"mktcap\"].shift(1))\n",
    "  )\n",
    "  .reset_index(drop=True)\n",
    ")\n",
    "\n",
    "(crsp_monthly_dummy\n",
    "  .to_sql(name=\"crsp_monthly\", \n",
    "          con=tidy_finance, \n",
    "          if_exists=\"replace\",\n",
    "          index=False)\n",
    ")"
   ]
  },
  {
   "cell_type": "markdown",
   "id": "e154a9bb-1b2a-46d8-9c5b-e231a33c6f4c",
   "metadata": {},
   "source": [
    "## Dummy crsp_daily table"
   ]
  },
  {
   "cell_type": "code",
   "execution_count": 57,
   "id": "ed36191c-b4aa-414e-9b7c-ce1220278f2f",
   "metadata": {},
   "outputs": [
    {
     "data": {
      "text/plain": [
       "767000"
      ]
     },
     "execution_count": 57,
     "metadata": {},
     "output_type": "execute_result"
    }
   ],
   "source": [
    "crsp_daily_dummy = (stock_panel_daily\n",
    "  .assign(\n",
    "    ret_excess=lambda x: np.fmax(np.random.normal(size=len(x)), -1)\n",
    "  )\n",
    "  .reset_index(drop=True)\n",
    ")\n",
    "\n",
    "(crsp_daily_dummy\n",
    "  .to_sql(name=\"crsp_daily\", \n",
    "          con=tidy_finance, \n",
    "          if_exists=\"replace\",\n",
    "          index=False)\n",
    ")"
   ]
  },
  {
   "cell_type": "markdown",
   "id": "7c849887-370a-4ce7-9b64-2261f5cafb15",
   "metadata": {},
   "source": [
    "## Create Bond Dummy Data"
   ]
  },
  {
   "cell_type": "code",
   "execution_count": 59,
   "id": "6d3ff31a-953e-44db-991d-a5d2930a4a26",
   "metadata": {},
   "outputs": [
    {
     "data": {
      "text/plain": [
       "100"
      ]
     },
     "execution_count": 59,
     "metadata": {},
     "output_type": "execute_result"
    }
   ],
   "source": [
    "number_of_bonds = 100\n",
    "\n",
    "def generate_cusip():\n",
    "  \"\"\"Generate cusip.\"\"\"\n",
    "  \n",
    "  characters = list(string.ascii_uppercase+string.digits)  # Convert to list\n",
    "  cusip = (\"\".join(np.random.choice(characters, size=12))).upper()\n",
    "    \n",
    "  return cusip\n",
    "\n",
    "fisd_dummy = (pd.DataFrame({\n",
    "    \"complete_cusip\": [generate_cusip() for _ in range(number_of_bonds)]\n",
    "  })\n",
    "  .assign(\n",
    "    maturity=lambda x: np.random.choice(dummy_days, len(x), replace=True),\n",
    "    offering_amt=lambda x: np.random.choice(\n",
    "      np.arange(1, 101)*100000, len(x), replace=True\n",
    "    )\n",
    "  )\n",
    "  .assign(\n",
    "    offering_date=lambda x: (\n",
    "      x[\"maturity\"]-pd.to_timedelta(\n",
    "        np.random.choice(np.arange(1, 26)*365, len(x), replace=True), \n",
    "        unit=\"D\"\n",
    "      )\n",
    "    )\n",
    "  )\n",
    "  .assign(\n",
    "    dated_date=lambda x: (\n",
    "      x[\"offering_date\"]-pd.to_timedelta(\n",
    "        np.random.choice(np.arange(-10, 11), len(x), replace=True), \n",
    "        unit=\"D\"\n",
    "      )\n",
    "    ),\n",
    "    interest_frequency=lambda x: np.random.choice(\n",
    "      [0, 1, 2, 4, 12], len(x), replace=True\n",
    "    ),\n",
    "    coupon=lambda x: np.random.choice(\n",
    "      np.arange(0, 2.1, 0.1), len(x), replace=True\n",
    "    )\n",
    "  )\n",
    "  .assign(\n",
    "    last_interest_date=lambda x: (\n",
    "      x[[\"maturity\", \"offering_date\", \"dated_date\"]].max(axis=1)\n",
    "    ),\n",
    "    issue_id=lambda x: x.index+1,\n",
    "    issuer_id=lambda x: np.random.choice(\n",
    "      np.arange(1, 251), len(x), replace=True\n",
    "    ),\n",
    "    sic_code=lambda x: (np.random.choice(\n",
    "      np.arange(1, 10)*1000, len(x), replace=True)\n",
    "    ).astype(str)\n",
    "  )\n",
    ")\n",
    "\n",
    "(fisd_dummy\n",
    "  .to_sql(name=\"fisd\", \n",
    "          con=tidy_finance, \n",
    "          if_exists=\"replace\",\n",
    "          index=False)\n",
    ")"
   ]
  },
  {
   "cell_type": "code",
   "execution_count": 60,
   "id": "f7b4b269-f42d-4feb-a10c-4aa06245810f",
   "metadata": {},
   "outputs": [
    {
     "data": {
      "text/plain": [
       "532500"
      ]
     },
     "execution_count": 60,
     "metadata": {},
     "output_type": "execute_result"
    }
   ],
   "source": [
    "number_of_bonds = 100\n",
    "start_date = pd.Timestamp(\"2014-01-01\")\n",
    "end_date = pd.Timestamp(\"2016-11-30\")\n",
    "\n",
    "bonds_panel = pd.DataFrame({\n",
    "  \"cusip_id\": np.tile(\n",
    "    fisd_dummy[\"complete_cusip\"], \n",
    "    (end_date-start_date).days+1\n",
    "  ),\n",
    "  \"trd_exctn_dt\": np.repeat(\n",
    "    pd.date_range(start_date, end_date), len(fisd_dummy)\n",
    "  )\n",
    "})\n",
    "\n",
    "trace_enhanced_dummy = (pd.concat([bonds_panel]*5)\n",
    "  .assign(\n",
    "    trd_exctn_tm = lambda x: pd.to_datetime(\n",
    "      x[\"trd_exctn_dt\"].astype(str)+\" \" +\n",
    "      np.random.randint(0, 24, size=len(x)).astype(str)+\":\" +\n",
    "      np.random.randint(0, 60, size=len(x)).astype(str)+\":\" +\n",
    "      np.random.randint(0, 60, size=len(x)).astype(str)\n",
    "    ),\n",
    "    rptd_pr=np.random.uniform(10, 200, len(bonds_panel)*5),\n",
    "    entrd_vol_qt=1000*np.random.choice(\n",
    "      range(1,21), len(bonds_panel)*5, replace=True\n",
    "    ),\n",
    "    yld_pt=np.random.uniform(-10, 10, len(bonds_panel)*5),\n",
    "    rpt_side_cd=np.random.choice(\n",
    "      [\"B\", \"S\"], len(bonds_panel)*5, replace=True\n",
    "    ),\n",
    "    cntra_mp_id=np.random.choice(\n",
    "      [\"C\", \"D\"], len(bonds_panel)*5, replace=True\n",
    "    )\n",
    "  )\n",
    "  .reset_index(drop=True)\n",
    ")\n",
    "\n",
    "(trace_enhanced_dummy\n",
    "  .to_sql(name=\"trace_enhanced\", \n",
    "          con=tidy_finance, \n",
    "          if_exists=\"replace\",\n",
    "          index=False)\n",
    ")"
   ]
  },
  {
   "cell_type": "markdown",
   "id": "b4c59818-3608-42c5-82e7-f2f2ceaaade7",
   "metadata": {},
   "source": [
    "As stated in the introduction, the data does not contain any samples of the original data. We merely generate random numbers for all columns of the tables that we use throughout this book."
   ]
  }
 ],
 "metadata": {
  "kernelspec": {
   "display_name": "Python 3 (ipykernel)",
   "language": "python",
   "name": "python3"
  },
  "language_info": {
   "codemirror_mode": {
    "name": "ipython",
    "version": 3
   },
   "file_extension": ".py",
   "mimetype": "text/x-python",
   "name": "python",
   "nbconvert_exporter": "python",
   "pygments_lexer": "ipython3",
   "version": "3.11.7"
  }
 },
 "nbformat": 4,
 "nbformat_minor": 5
}
